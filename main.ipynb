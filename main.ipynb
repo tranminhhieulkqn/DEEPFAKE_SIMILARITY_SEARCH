{
 "cells": [
  {
   "cell_type": "code",
   "execution_count": 10,
   "metadata": {},
   "outputs": [],
   "source": [
    "import time\n",
    "from argparse import ArgumentParser\n",
    "\n",
    "import os\n",
    "import faiss\n",
    "import torch\n",
    "from torch.utils.data import DataLoader, SequentialSampler\n",
    "\n",
    "from src.feature_extraction import MyResnet50, MyVGG16, RGBHistogram, LBP\n",
    "from src.dataloader import MyDataLoader"
   ]
  },
  {
   "cell_type": "code",
   "execution_count": 19,
   "metadata": {},
   "outputs": [
    {
     "name": "stdout",
     "output_type": "stream",
     "text": [
      "Start indexing .......\n",
      "Finish in 192.44080781936646 seconds\n"
     ]
    }
   ],
   "source": [
    "image_root = './data/images'\n",
    "feature_root = './data/features'\n",
    "\n",
    "print('Start indexing .......')\n",
    "start = time.time()\n",
    "\n",
    "device = torch.device(\"cpu\")\n",
    "batch_size = 32\n",
    "\n",
    "# Load module feature extraction \n",
    "extractor = MyResnet50(device)\n",
    "\n",
    "dataset = MyDataLoader(image_root)\n",
    "sampler = SequentialSampler(dataset)\n",
    "dataloader = DataLoader(dataset,batch_size=batch_size,sampler=sampler)\n",
    "\n",
    "indexer = faiss.IndexFlatL2(extractor.shape)\n",
    "\n",
    "for images, image_paths in dataloader:\n",
    "\timages = images.to(device)\n",
    "\tfeatures = extractor.extract_features(images)\n",
    "\t# print(features.shape)\n",
    "\t# indexer.add(features)\n",
    "\tindexer.add(features)\n",
    " \n",
    "\t# indexer.add(features)\n",
    "\n",
    "# Save features\n",
    "faiss.write_index(indexer, feature_root + '/' + \"Resnet50\" + '.index.bin')\n",
    "\n",
    "end = time.time()\n",
    "print('Finish in ' + str(end - start) + ' seconds')"
   ]
  },
  {
   "cell_type": "code",
   "execution_count": 28,
   "metadata": {},
   "outputs": [
    {
     "data": {
      "text/plain": [
       "(array([[0.       , 3.3062997, 3.8204498, 6.138777 , 6.6625433]],\n",
       "       dtype=float32),\n",
       " array([[ 37, 506, 326,  52, 595]]))"
      ]
     },
     "execution_count": 28,
     "metadata": {},
     "output_type": "execute_result"
    }
   ],
   "source": [
    "from PIL import Image\n",
    "_img = \"/home/hieutm8/Projects/DEEPFAKE_SIMILARITY_SEARCH/data/images/0ae050ad67e48ebad7f5.jpg\"\n",
    "from src.dataloader import get_transformation\n",
    "transform = get_transformation()\n",
    "\n",
    "img = Image.open(_img)\n",
    "img = img.convert('RGB')\n",
    "image_tensor = transform(img)\n",
    "image_tensor = image_tensor.unsqueeze(0).to(device)\n",
    "feat = extractor.extract_features(image_tensor)\n",
    "feat\n",
    "D, indices = indexer.search(feat, k=5)\n",
    "D, indices"
   ]
  },
  {
   "cell_type": "code",
   "execution_count": 23,
   "metadata": {},
   "outputs": [],
   "source": [
    "D, indices = indexer.search(feat, k=5)"
   ]
  },
  {
   "cell_type": "code",
   "execution_count": 26,
   "metadata": {},
   "outputs": [
    {
     "data": {
      "text/plain": [
       "array([[ 37, 506, 326,  52, 595]])"
      ]
     },
     "execution_count": 26,
     "metadata": {},
     "output_type": "execute_result"
    }
   ],
   "source": [
    "indices"
   ]
  },
  {
   "cell_type": "code",
   "execution_count": null,
   "metadata": {},
   "outputs": [],
   "source": []
  }
 ],
 "metadata": {
  "kernelspec": {
   "display_name": ".venv",
   "language": "python",
   "name": "python3"
  },
  "language_info": {
   "codemirror_mode": {
    "name": "ipython",
    "version": 3
   },
   "file_extension": ".py",
   "mimetype": "text/x-python",
   "name": "python",
   "nbconvert_exporter": "python",
   "pygments_lexer": "ipython3",
   "version": "3.10.12"
  }
 },
 "nbformat": 4,
 "nbformat_minor": 2
}
